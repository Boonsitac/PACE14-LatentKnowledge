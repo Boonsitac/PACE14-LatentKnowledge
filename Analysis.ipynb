{
 "cells": [
  {
   "cell_type": "markdown",
   "id": "b0010759",
   "metadata": {},
   "source": [
    "Latent Knowledge - test \n",
    "\n",
    "Description of Fields \n",
    "articleID: The number in the dataset. \n",
    "article_title: The name of the article. \n",
    "article_url: The url of the artilce. \n",
    "article_date: The date teh article was published. \n",
    "article_author: The author(s) who wrote the article. \n",
    "article_abstract: The abstract (if included) of the article. "
   ]
  },
  {
   "cell_type": "code",
   "execution_count": null,
   "id": "1f4cdfa9",
   "metadata": {},
   "outputs": [],
   "source": [
    "import pandas as pd\n",
    "import numpy as np"
   ]
  },
  {
   "cell_type": "code",
   "execution_count": null,
   "id": "b7f71708",
   "metadata": {},
   "outputs": [],
   "source": [
    "df = pd.read_csv('LK_test_data.csv')"
   ]
  },
  {
   "cell_type": "code",
   "execution_count": null,
   "id": "5822a39e",
   "metadata": {},
   "outputs": [],
   "source": [
    "df.head()"
   ]
  }
 ],
 "metadata": {
  "language_info": {
   "name": "python"
  }
 },
 "nbformat": 4,
 "nbformat_minor": 5
}
