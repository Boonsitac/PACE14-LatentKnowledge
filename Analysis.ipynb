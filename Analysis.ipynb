{
 "cells": [
  {
   "cell_type": "markdown",
   "id": "b0010759",
   "metadata": {},
   "source": [
    "Latent Knowledge - test \n",
    "\n",
    "Description of Fields: \n",
    "articleId: The number in the dataset. \n",
    "title: The name of the article. \n",
    "url: The url of the artilce. \n",
    "date: The date the article was published. \n",
    "author: The author(s) who wrote the article. \n",
    "abstract: The abstract (if included) of the article. "
   ]
  },
  {
   "cell_type": "code",
   "execution_count": null,
   "id": "1f4cdfa9",
   "metadata": {},
   "outputs": [],
   "source": [
    "import pandas as pd\n",
    "import numpy as np"
   ]
  },
  {
   "cell_type": "code",
   "execution_count": null,
   "id": "b7f71708",
   "metadata": {},
   "outputs": [],
   "source": [
    "df = pd.read_csv('LK_test_data.csv')"
   ]
  },
  {
   "cell_type": "code",
   "execution_count": null,
   "id": "5822a39e",
   "metadata": {},
   "outputs": [],
   "source": [
    "df.head()"
   ]
  }
 ],
 "metadata": {
  "kernelspec": {
   "display_name": "pandas",
   "language": "python",
   "name": "python3"
  },
  "language_info": {
   "codemirror_mode": {
    "name": "ipython",
    "version": 3
   },
   "file_extension": ".py",
   "mimetype": "text/x-python",
   "name": "python",
   "nbconvert_exporter": "python",
   "pygments_lexer": "ipython3",
   "version": "3.9.18"
  }
 },
 "nbformat": 4,
 "nbformat_minor": 5
}
